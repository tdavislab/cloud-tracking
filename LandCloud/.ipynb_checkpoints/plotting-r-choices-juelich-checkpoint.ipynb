{
 "cells": [
  {
   "cell_type": "markdown",
   "id": "2c36fd81",
   "metadata": {},
   "source": [
    "## Section 2. Plots for tracking results"
   ]
  },
  {
   "cell_type": "markdown",
   "id": "92a74a3c",
   "metadata": {},
   "source": [
    "### Generating tracking results\n",
    "\n",
    "We compute the matching based on matching scores.\n",
    "We move the step to here to unify all kinds of output from three different approaches (ours, tobac, PyFLEXTRKR)"
   ]
  },
  {
   "cell_type": "code",
   "execution_count": 1,
   "id": "addb0e29",
   "metadata": {},
   "outputs": [],
   "source": [
    "# dates = [\"20230801\", \"20230802\", \"20230803\", \"20230804\", \"20230805\", \"20230806\", \"20230807\",\n",
    "#          \"20230808\", \"20230809\", \"20230810\", \"20230811\", \"20230812\", \"20230813\", \"20230814\",]\n",
    "dates = [\"20180501\", \"20180623\", \"20190512\"]"
   ]
  },
  {
   "cell_type": "code",
   "execution_count": 2,
   "id": "5026162e",
   "metadata": {},
   "outputs": [],
   "source": [
    "techniques = [(\"pFGW-system\", 0.1), (\"pFGW-system\", 0.2), (\"pFGW-system\", 0.3)]\n",
    "\n",
    "time_period = {\n",
    "#     \"morning\": [0, 36],\n",
    "    \"mid-day\": [37, 108],\n",
    "#     \"late afternoon\": [109, 145]\n",
    "}\n",
    "\n",
    "superlevel_thres_dict = {\n",
    "    \"morning\": 9.0,\n",
    "    \"mid-day\": 10.0,\n",
    "    \"late afternoon\": 9.0\n",
    "}"
   ]
  },
  {
   "cell_type": "code",
   "execution_count": 3,
   "id": "d2008640",
   "metadata": {},
   "outputs": [
    {
     "name": "stdout",
     "output_type": "stream",
     "text": [
      "Dataset String: 20180501_juelich-0-0.2-37-108-thres-10.0\n",
      "72 72 71\n",
      "Dataset String: 20180501_juelich-0-0.2-37-108-thres-10.0\n",
      "72 72 71\n",
      "Dataset String: 20180501_juelich-0-0.2-37-108-thres-10.0\n",
      "72 72 71\n",
      "Dataset String: 20180623_juelich-0-0.2-37-108-thres-10.0\n",
      "72 72 71\n",
      "Dataset String: 20180623_juelich-0-0.2-37-108-thres-10.0\n",
      "72 72 71\n",
      "Dataset String: 20180623_juelich-0-0.2-37-108-thres-10.0\n",
      "72 72 71\n",
      "Dataset String: 20190512_juelich-0-0.2-37-108-thres-10.0\n",
      "72 72 71\n",
      "Dataset String: 20190512_juelich-0-0.2-37-108-thres-10.0\n",
      "72 72 71\n",
      "Dataset String: 20190512_juelich-0-0.2-37-108-thres-10.0\n",
      "72 72 71\n"
     ]
    }
   ],
   "source": [
    "import pickle\n",
    "from os.path import join as pjoin\n",
    "import os\n",
    "\n",
    "track_information = {}\n",
    "dataset_strs = {}\n",
    "alpha=0.2\n",
    "nDates = len(dates)\n",
    "\n",
    "for date in dates:\n",
    "    for technique in techniques:\n",
    "        for daytime in time_period:\n",
    "            track_info_base_dir = \"./track-info/\"\n",
    "            start_time, end_time = time_period[daytime]\n",
    "            \n",
    "            # name-persSimp-alpha\n",
    "            dataset=\"20180501_juelich\".replace(\"20180501\", date)\n",
    "            superlevel_thres = superlevel_thres_dict[daytime]\n",
    "            \n",
    "            if daytime != \"late afternoon\":\n",
    "                dataset_s = \"{}-0-{}-{}-{}-thres-{}\".format(dataset, \n",
    "                                                              str(alpha) if \"pFGW\" in technique[0] else \"0\", \n",
    "                                                              str(start_time), \n",
    "                                                              str(end_time), \n",
    "                                                              str(round(superlevel_thres, 1)))\n",
    "            else:\n",
    "                avails = os.listdir(pjoin(track_info_base_dir, technique[0]))\n",
    "                dataset_s = None\n",
    "                for avail in avails:\n",
    "                    if dataset in avail:\n",
    "                        if \"-{}-{}-\".format(str(alpha) if technique == \"pFGW\" else \"0\", str(start_time)) in avail:\n",
    "                            dataset_s = avail\n",
    "                            break\n",
    "                            \n",
    "            print(\"Dataset String:\", dataset_s)\n",
    "\n",
    "            dataset_str = pjoin(technique[0], dataset_s)\n",
    "            if (technique, daytime) not in dataset_strs:\n",
    "                dataset_strs[(technique, daytime)] = [dataset_str]\n",
    "            else:\n",
    "                dataset_strs[(technique, daytime)].append(dataset_str)\n",
    "\n",
    "            track_info_dir = pjoin(track_info_base_dir, dataset_str)\n",
    "\n",
    "            centroids = clustered_sfs = matching_scores = None\n",
    "            with open(pjoin(track_info_dir, \"clustered_sf.pkl\"), \"rb\") as infile:\n",
    "                clustered_sfs = pickle.load(infile)\n",
    "                infile.close()\n",
    "\n",
    "            with open(pjoin(track_info_dir, \"centroids.pkl\"), \"rb\") as infile:\n",
    "                centroids = pickle.load(infile)\n",
    "                infile.close()\n",
    "\n",
    "            with open(pjoin(track_info_dir, \"matching_scores.pkl\"), \"rb\") as infile:\n",
    "                matching_scores = pickle.load(infile)\n",
    "                infile.close()\n",
    "            \n",
    "            print(len(clustered_sfs), len(centroids), len(matching_scores))\n",
    "\n",
    "            if (technique, daytime) not in track_information:\n",
    "                track_information[(technique, daytime)] = [[clustered_sfs, centroids, matching_scores]]\n",
    "            else:\n",
    "                track_information[(technique, daytime)].append([clustered_sfs, centroids, matching_scores])"
   ]
  },
  {
   "cell_type": "code",
   "execution_count": 4,
   "id": "76b3bc9e",
   "metadata": {},
   "outputs": [
    {
     "name": "stdout",
     "output_type": "stream",
     "text": [
      "('pFGW-system', 0.1)\n",
      "Using area-priority strategy. The oc_threshold should be considerably high to avoid arbitrary large cloud matchings.\n",
      "Finished computing area sorting.\n",
      "('pFGW-system', 0.2)\n",
      "Using area-priority strategy. The oc_threshold should be considerably high to avoid arbitrary large cloud matchings.\n",
      "Finished computing area sorting.\n",
      "('pFGW-system', 0.3)\n",
      "Using area-priority strategy. The oc_threshold should be considerably high to avoid arbitrary large cloud matchings.\n",
      "Finished computing area sorting.\n",
      "('pFGW-system', 0.1)\n",
      "Using area-priority strategy. The oc_threshold should be considerably high to avoid arbitrary large cloud matchings.\n",
      "Finished computing area sorting.\n",
      "('pFGW-system', 0.2)\n",
      "Using area-priority strategy. The oc_threshold should be considerably high to avoid arbitrary large cloud matchings.\n",
      "Finished computing area sorting.\n",
      "('pFGW-system', 0.3)\n",
      "Using area-priority strategy. The oc_threshold should be considerably high to avoid arbitrary large cloud matchings.\n",
      "Finished computing area sorting.\n",
      "('pFGW-system', 0.1)\n",
      "Using area-priority strategy. The oc_threshold should be considerably high to avoid arbitrary large cloud matchings.\n",
      "Finished computing area sorting.\n",
      "('pFGW-system', 0.2)\n",
      "Using area-priority strategy. The oc_threshold should be considerably high to avoid arbitrary large cloud matchings.\n",
      "Finished computing area sorting.\n",
      "('pFGW-system', 0.3)\n",
      "Using area-priority strategy. The oc_threshold should be considerably high to avoid arbitrary large cloud matchings.\n",
      "Finished computing area sorting.\n"
     ]
    }
   ],
   "source": [
    "from postprocess_juelich import compute_one2one_matching, output_trajectories\n",
    "import copy\n",
    "\n",
    "for iDate in range(nDates):\n",
    "    for technique in techniques:\n",
    "        for daytime in time_period:\n",
    "            print(technique)\n",
    "            clustered_sfs = track_information[(technique, daytime)][iDate][0]\n",
    "            matching_scores = track_information[(technique, daytime)][iDate][2]\n",
    "            \n",
    "            cloud_id_mapping, durations = compute_one2one_matching(matching_scores, strategy=\"area-priority\", clustered_sfs=clustered_sfs, oc_thres=technique[1])\n",
    "            \n",
    "            track_information[(technique, daytime)][iDate].extend([cloud_id_mapping, durations])"
   ]
  },
  {
   "cell_type": "code",
   "execution_count": 5,
   "id": "396f73d2",
   "metadata": {},
   "outputs": [],
   "source": [
    "# from matplotlib import pyplot as plt\n",
    "# import numpy as np\n",
    "\n",
    "# scores = track_information[(\"pFGW\", \"mid-day\")][0][2][0]\n",
    "# print(np.max(scores), np.min(scores))\n",
    "# clustered_sfs0 = track_information[(\"pFGW\", \"mid-day\")][0][0][0]\n",
    "# clustered_sfs1 = track_information[(\"pFGW\", \"mid-day\")][0][0][1]\n",
    "\n",
    "# NN, MM = scores.shape\n",
    "            \n",
    "# sortByArea_cur = [(np.sum(labels_cur == i), i) for i in range(NN)]\n",
    "# sortByArea_next = [(np.sum(labels_next == i), i) for i in range(MM)]\n",
    "\n",
    "# sortByArea_cur.sort(reverse=True)\n",
    "# sortByArea_next.sort(reverse=True)\n",
    "\n",
    "# row_scores = np.sum(scores, axis=1)\n",
    "# col_scores = np.sum(scores, axis=0)\n",
    "\n",
    "# matchings = np.zeros((NN, MM))\n",
    "# for i in range(NN):\n",
    "#     row = sortByArea_cur[i][1]\n",
    "#     for j in range(MM):\n",
    "#         col = sortByArea_next[j][1]\n",
    "#         if col in checked_cols:\n",
    "#             continue\n",
    "            \n",
    "#         # as long as there is valid assignment\n",
    "#         if (scores[row][col] > 0) and ((scores[row, col] == np.max(scores[row, :])) or (scores[row, col] == np.max(scores[:, col])) or \n",
    "#             (scores[row, col] >= row_scores[row] * oc_thres) or (scores[row, col] >= col_scores[col] * oc_thres)):\n",
    "#             matchings[row][col] = \n",
    "#             break\n",
    "\n",
    "# scores[0][scores[0] > 0] = 1\n",
    "# plt.figure(figsize=(16, 16))\n",
    "# plt.imshow(scores[0])\n",
    "# plt.colorbar()"
   ]
  },
  {
   "cell_type": "code",
   "execution_count": 6,
   "id": "842b66b8",
   "metadata": {},
   "outputs": [],
   "source": [
    "# for iDate in range(nDates):\n",
    "#     for technique in techniques:\n",
    "#         for daytime in time_period:\n",
    "#             if technique != \"pFGW-system\":\n",
    "#                 continue\n",
    "#             print(dates[iDate], technique, daytime)\n",
    "#             dataset_str = dataset_strs[(technique, daytime)][iDate]\n",
    "#             clustered_sfs, centroids, _, cloud_id_mapping, _ = track_information[(technique, daytime)][iDate]\n",
    "#             output_trajectories(dataset_str, centroids, copy.deepcopy(clustered_sfs), cloud_id_mapping)"
   ]
  },
  {
   "cell_type": "markdown",
   "id": "bb3aefd6",
   "metadata": {},
   "source": [
    "### Plot 3. Cloud system population histogram by time span (lifetime)"
   ]
  },
  {
   "cell_type": "code",
   "execution_count": 7,
   "id": "9384df1e",
   "metadata": {},
   "outputs": [],
   "source": [
    "from matplotlib import pyplot as plt\n",
    "import numpy as np\n",
    "import pandas as pd\n",
    "\n",
    "# time gap size\n",
    "gap_size = 5"
   ]
  },
  {
   "cell_type": "code",
   "execution_count": 24,
   "id": "dc509be1",
   "metadata": {},
   "outputs": [
    {
     "name": "stdout",
     "output_type": "stream",
     "text": [
      "# trajactories of ('pFGW-system', 0.1): 30891\n",
      "# cloud systems/objects of ('pFGW-system', 0.1): 116184\n",
      "# trajactories of ('pFGW-system', 0.2): 31072\n",
      "# cloud systems/objects of ('pFGW-system', 0.2): 116184\n",
      "# trajactories of ('pFGW-system', 0.3): 31194\n",
      "# cloud systems/objects of ('pFGW-system', 0.3): 116184\n"
     ]
    },
    {
     "data": {
      "image/png": "[encoded data removed]",
      "text/plain": [
       "<Figure size 1000x400 with 1 Axes>"
      ]
     },
     "metadata": {},
     "output_type": "display_data"
    }
   ],
   "source": [
    "font = {\n",
    "    \"family\": \"sans-serif\",\n",
    "    \"weight\": \"normal\",\n",
    "    \"size\": 16\n",
    "}\n",
    "plt.figure(figsize=(10, 4))\n",
    "\n",
    "labels_technique = {(\"pFGW-system\", 0.1): \"pFGW (r=0.1)\", (\"pFGW-system\", 0.2): \"pFGW (r=0.2)\", (\"pFGW-system\", 0.3): \"pFGW (r=0.3)\"}\n",
    "colors_technique = {(\"pFGW-system\", 0.1): \"red\", (\"pFGW-system\", 0.2): \"blue\", (\"pFGW-system\", 0.3): \"orange\"}\n",
    "linewidths_technique = {(\"pFGW-system\", 0.1): 5, (\"pFGW-system\", 0.2): 4, (\"pFGW-system\", 0.3): 4}\n",
    "\n",
    "# unsimplified pFGW nSystems (CPPin) = 17178\n",
    "for technique in techniques:\n",
    "    all_durations = []\n",
    "    for iDate in range(nDates):\n",
    "        for daytime in time_period:\n",
    "            tmp_duration = track_information[(technique, daytime)][iDate][4]\n",
    "            all_durations.extend(tmp_duration)\n",
    "    durations = np.asarray(all_durations)\n",
    "    \n",
    "    print(\"# trajactories of {}:\".format(str(technique)), len(durations))\n",
    "    print(\"# cloud systems/objects of {}:\".format(str(technique)), np.sum(durations))\n",
    "\n",
    "    \n",
    "for technique in techniques:\n",
    "    all_durations = []\n",
    "    for iDate in range(nDates):\n",
    "        for daytime in time_period:\n",
    "            tmp_duration = track_information[(technique, daytime)][iDate][4]\n",
    "            all_durations.extend(tmp_duration)\n",
    "    durations = np.asarray(all_durations) * gap_size\n",
    "    \n",
    "    plt.hist(durations, bins=36, histtype=\"step\", label=labels_technique[technique], \n",
    "             color=colors_technique[technique], linewidth=linewidths_technique[technique])\n",
    "\n",
    "plt.yscale(\"log\")\n",
    "plt.xlabel(\"Time span (minutes)\", font=font)\n",
    "plt.ylabel(\"Trajectory population\", font=font)\n",
    "\n",
    "# plt.xlim([5, 200])\n",
    "plt.xlim([5, 400])\n",
    "plt.xticks(font=font)\n",
    "plt.yticks(font=font)\n",
    "\n",
    "plt.legend(prop=font)\n",
    "plt.tight_layout()\n",
    "\n",
    "plt.show()"
   ]
  },
  {
   "cell_type": "markdown",
   "id": "ca010786",
   "metadata": {},
   "source": [
    "### Plot 4. Bar plot for the evaluation statistics\n",
    "\n",
    "* the median of trajectory durations \n",
    "\n",
    "* the mean of standard deviation of trajectory properties on tracks with duration > median\n",
    "  - property 1. mean of cloud COD\n",
    "  - property 2. standard deviation of cloud COD\n",
    "  \n",
    "* the root-mean-square error (RMSE) for the centroid locations of cloud systems on trajectories with duration > median"
   ]
  },
  {
   "cell_type": "code",
   "execution_count": 9,
   "id": "c597719b",
   "metadata": {},
   "outputs": [],
   "source": [
    "# statistical evaluation\n",
    "labels = techniques\n",
    "# labels = [\"pFGW\"] \n",
    "font = {\n",
    "    \"family\": \"sans-serif\",\n",
    "    \"weight\": \"normal\",\n",
    "    \"size\": 30\n",
    "}\n",
    "\n",
    "smallfont = {\n",
    "    \"family\": \"sans-serif\",\n",
    "    \"weight\": \"normal\",\n",
    "    \"size\": 24\n",
    "}\n",
    "\n",
    "tinyfont = {\n",
    "    \"family\": \"sans-serif\",\n",
    "    \"weight\": \"normal\",\n",
    "    \"size\": 18\n",
    "}"
   ]
  },
  {
   "cell_type": "code",
   "execution_count": 10,
   "id": "6783d3b5",
   "metadata": {},
   "outputs": [
    {
     "data": {
      "image/png": "[encoded data removed]",
      "text/plain": [
       "<Figure size 500x500 with 1 Axes>"
      ]
     },
     "metadata": {},
     "output_type": "display_data"
    }
   ],
   "source": [
    "# Plot 4.1: median of trajectory durations\n",
    "timespan_list = []\n",
    "\n",
    "for label in labels:\n",
    "    all_durations = []\n",
    "    for iDate in range(nDates):\n",
    "        for daytime in time_period:\n",
    "            tmp_duration = track_information[(label, daytime)][iDate][4]\n",
    "            all_durations.extend(tmp_duration)\n",
    "    durations = np.asarray(all_durations) * gap_size\n",
    "    # durations = np.asarray(track_information[label][4]) * gap_size\n",
    "    timespan_list.append(durations)\n",
    "    \n",
    "plt.figure(figsize=(5, 5))\n",
    "# plt.subplot(121)\n",
    "# plt.violinplot(timespan_list, showmeans=False, showmedians=False)\n",
    "# plt.xticks(range(1, len(labels)+1), labels, font=smallfont)\n",
    "# plt.yticks(font=smallfont)\n",
    "# # plt.title(\"West of Africa\")\n",
    "# # plt.xlabel(\"Strategy\")\n",
    "# plt.ylabel(\"Time span (minutes)\", font=smallfont)\n",
    "\n",
    "# plt.subplot(122)\n",
    "plt.boxplot(timespan_list, showmeans=True, showfliers=False, meanprops={\"markersize\": 12})\n",
    "plt.xticks(range(1, len(labels)+1), [labels_technique[each] for each in labels], font=tinyfont, rotation=25, ha='right')\n",
    "\n",
    "yticks_pos, yticks_labels = plt.yticks(font=smallfont)\n",
    "yticks_pos = yticks_pos[1::2]\n",
    "plt.yticks(yticks_pos, yticks_pos, font=smallfont)\n",
    "\n",
    "plt.title(\"Timespan\", font=smallfont)\n",
    "# plt.title(\"West of Africa\")\n",
    "# plt.xlabel(\"Strategy\")\n",
    "plt.ylabel(\"Timespan (minutes)\", font=smallfont)\n",
    "plt.tight_layout()\n",
    "plt.show()\n",
    "\n",
    "\n",
    "medians = {labels[i]: np.median(timespan_list[i]) / gap_size for i in range(len(labels))}"
   ]
  },
  {
   "cell_type": "code",
   "execution_count": 11,
   "id": "2873e02b",
   "metadata": {},
   "outputs": [],
   "source": [
    "# Plot 4.2: the mean STD of cloud system/object property\n",
    "\n",
    "def get_trajectory_properties(clustered_sfs, cloud_id_mapping, value_list, median, measure=\"mean\", debug=False):\n",
    "    std_track_properties = []\n",
    "    track_ids = np.unique(list(cloud_id_mapping.values()))\n",
    "    track_instances = {}\n",
    "    for key in cloud_id_mapping:\n",
    "        time_step, seg_id = key\n",
    "        val = cloud_id_mapping[key]\n",
    "        if val not in track_instances:\n",
    "            track_instances[val] = [(time_step, seg_id)]\n",
    "        else:\n",
    "            track_instances[val].append((time_step, seg_id))\n",
    "    \n",
    "    for track_id in track_instances:\n",
    "        regions = track_instances[track_id]\n",
    "        regions.sort()\n",
    "        \n",
    "        if len(regions) <= median:\n",
    "            continue\n",
    "        \n",
    "        track_property = []\n",
    "        for time_step, seg_id in regions:\n",
    "            segmentation = clustered_sfs[time_step]\n",
    "            values = value_list[time_step]\n",
    "            assert segmentation.shape == values.shape\n",
    "            \n",
    "            seg_values = values[segmentation == seg_id]\n",
    "            if len(seg_values) == 0:\n",
    "                print(seg_id, np.unique(segmentation))\n",
    "            if measure == \"mean\":\n",
    "                prop = np.mean(seg_values)\n",
    "            elif measure == \"std\":\n",
    "                prop = np.std(seg_values)\n",
    "            else:\n",
    "                raise NotImplementedError\n",
    "            track_property.append(prop)\n",
    "        \n",
    "        std_track_property = np.std(track_property)\n",
    "        std_track_properties.append(std_track_property)\n",
    "    \n",
    "    return track_instances, std_track_properties"
   ]
  },
  {
   "cell_type": "code",
   "execution_count": 12,
   "id": "5e3b137c",
   "metadata": {},
   "outputs": [],
   "source": [
    "import readMergeTree as rmt\n",
    "# Additional step: load scalar fields\n",
    "dataset_base = \"20180501_juelich\"\n",
    "\n",
    "region_lists = {}\n",
    "value_lists = {}\n",
    "\n",
    "for iDate in range(len(dates)):\n",
    "    date = dates[iDate]\n",
    "    for daytime in time_period:\n",
    "        dataset = dataset_base.replace(\"20180501\", date)\n",
    "        dataset_path = os.path.join(\"data\", dataset)\n",
    "\n",
    "        region_list = []\n",
    "        value_list = []\n",
    "        for froot, di, files in os.walk(dataset_path):\n",
    "            def key(s):\n",
    "                try:\n",
    "                    int(s)\n",
    "                    return int(s)\n",
    "                except ValueError:\n",
    "                    return len(files) + 1\n",
    "\n",
    "            def isSegmentation(s: str):\n",
    "                return \"segmentation\" in s\n",
    "\n",
    "            def endsWithTxt(s: str):\n",
    "                return s.endswith(\"txt\")\n",
    "\n",
    "            def endsWithNpy(s: str):\n",
    "                return s.endswith(\"npy\")\n",
    "\n",
    "            txt_files = list(filter(endsWithTxt, files))\n",
    "            txt_files.sort(key=lambda x: key(x.split(\".\")[0].split(\"_\")[-1]))\n",
    "\n",
    "            for file in txt_files:\n",
    "                regions, values = rmt.get_regions(os.path.join(dataset_path, file))\n",
    "                region_list.extend(regions)\n",
    "                value_list.extend(values)\n",
    "\n",
    "        assert (len(region_list) == len(value_list))\n",
    "        \n",
    "        st_time, ed_time = time_period[daytime]\n",
    "\n",
    "        region_lists[(iDate, daytime)] = region_list[st_time:ed_time+1]\n",
    "        value_lists[(iDate, daytime)] = value_list[st_time:ed_time+1]\n"
   ]
  },
  {
   "cell_type": "code",
   "execution_count": 13,
   "id": "5efc7001",
   "metadata": {},
   "outputs": [
    {
     "name": "stdout",
     "output_type": "stream",
     "text": [
      "{('pFGW-system', 0.1): 2.0, ('pFGW-system', 0.2): 2.0, ('pFGW-system', 0.3): 2.0}\n"
     ]
    }
   ],
   "source": [
    "for each in medians:\n",
    "    if medians[each] < 2:\n",
    "        medians[each] = 2.0\n",
    "\n",
    "print(medians)"
   ]
  },
  {
   "cell_type": "code",
   "execution_count": 14,
   "id": "1ed92d76",
   "metadata": {},
   "outputs": [
    {
     "name": "stdout",
     "output_type": "stream",
     "text": [
      "technique, date, daytime: ('pFGW-system', 0.1) 20180501 mid-day\n",
      "72 72\n",
      "technique, date, daytime: ('pFGW-system', 0.1) 20180623 mid-day\n",
      "72 72\n",
      "technique, date, daytime: ('pFGW-system', 0.1) 20190512 mid-day\n",
      "72 72\n",
      "technique, date, daytime: ('pFGW-system', 0.2) 20180501 mid-day\n",
      "72 72\n",
      "technique, date, daytime: ('pFGW-system', 0.2) 20180623 mid-day\n",
      "72 72\n",
      "technique, date, daytime: ('pFGW-system', 0.2) 20190512 mid-day\n",
      "72 72\n",
      "technique, date, daytime: ('pFGW-system', 0.3) 20180501 mid-day\n",
      "72 72\n",
      "technique, date, daytime: ('pFGW-system', 0.3) 20180623 mid-day\n",
      "72 72\n",
      "technique, date, daytime: ('pFGW-system', 0.3) 20190512 mid-day\n",
      "72 72\n"
     ]
    }
   ],
   "source": [
    "# Step 1: we collect the trajectory information\n",
    "measure = \"mean\"\n",
    "track_instances_technique = {}\n",
    "std_track_properties_technique = {}\n",
    "for technique in techniques:\n",
    "    for iDate in range(nDates):\n",
    "        for daytime in time_period:\n",
    "            print(\"technique, date, daytime:\", technique, dates[iDate], daytime)\n",
    "            clustered_sfs, centroids, mapping_scores, cloud_id_mapping, durations = track_information[(technique, daytime)][iDate][:5]\n",
    "\n",
    "            # value_list has the original scalar field\n",
    "            value_list = value_lists[(iDate, daytime)]\n",
    "            print(len(value_list), len(clustered_sfs))\n",
    "            assert len(value_list) == len(clustered_sfs)\n",
    "            track_instances, std_track_properties = get_trajectory_properties(clustered_sfs, cloud_id_mapping, value_list, medians[technique], measure, debug=technique==\"tobac\")\n",
    "            track_instances_technique[(technique, daytime, iDate)] = track_instances\n",
    "            std_track_properties_technique[(technique, daytime, iDate)] = std_track_properties"
   ]
  },
  {
   "cell_type": "code",
   "execution_count": 15,
   "id": "f2495a33",
   "metadata": {},
   "outputs": [],
   "source": [
    "# plt.figure(figsize=(3, 4))\n",
    "\n",
    "# mean_std_track_trajectories_list = []# np.mean(std_track_properties_technique[(labels[i], j)]) for i in range(len(labels)) for j in range(nDates)]\n",
    "# for label in labels:\n",
    "#     std_track_properties = []\n",
    "#     for iDate in range(nDates):\n",
    "#         std_track_properties.extend(std_track_properties_technique[(label, iDate)])\n",
    "#     print(std_track_properties)\n",
    "#     mean_std_track_trajectories_list.append(np.asarray(std_track_properties))\n",
    "\n",
    "# plt.bar(labels, mean_std_track_trajectories_list)\n",
    "# # plt.title(\"West of Africa\")\n",
    "# plt.xlabel(\"Strategy\")\n",
    "# plt.ylabel(\"Mean of STD of COD{}\".format(measure[0]))"
   ]
  },
  {
   "cell_type": "code",
   "execution_count": 16,
   "id": "8381a520",
   "metadata": {
    "scrolled": true
   },
   "outputs": [
    {
     "name": "stdout",
     "output_type": "stream",
     "text": [
      "mean: 1.559960771782646\n",
      "median: 1.2308405668745126\n",
      "mean: 1.5484796174820654\n",
      "median: 1.2274128809406364\n",
      "mean: 1.544643042732383\n",
      "median: 1.228573465444975\n"
     ]
    },
    {
     "data": {
      "image/png": "[encoded data removed]",
      "text/plain": [
       "<Figure size 500x500 with 1 Axes>"
      ]
     },
     "metadata": {},
     "output_type": "display_data"
    }
   ],
   "source": [
    "std_track_trajectories_list = []\n",
    "for label in labels:\n",
    "    std_track_properties = []\n",
    "    for iDate in range(nDates):\n",
    "        for daytime in time_period:\n",
    "            std_track_properties.extend(std_track_properties_technique[(label, daytime, iDate)])\n",
    "    std_track_trajectories_list.append(np.asarray(std_track_properties))\n",
    "    \n",
    "plt.figure(figsize=(5, 5))\n",
    "# plt.subplot(121)\n",
    "# plt.violinplot(std_track_trajectories_list, showmeans=False, showmedians=False)\n",
    "# plt.xticks(range(1, len(labels)+1), labels, font=smallfont)\n",
    "# plt.yticks(font=smallfont)\n",
    "# # plt.title(\"West of Africa\")\n",
    "# # plt.xlabel(\"Strategy\")\n",
    "# plt.ylabel(\"Std Dev. of COD{}\".format(measure[0]), font=smallfont)\n",
    "\n",
    "# plt.subplot(122)\n",
    "plt.boxplot(std_track_trajectories_list, showmeans=True, showfliers=False, meanprops={\"markersize\": 12})\n",
    "plt.xticks(range(1, len(labels)+1), [labels_technique[each] for each in labels], font=tinyfont, rotation=25, ha='right')\n",
    "\n",
    "yticks_pos, yticks_labels = plt.yticks(font=smallfont)\n",
    "yticks_pos = yticks_pos[1::2]\n",
    "plt.yticks(yticks_pos, yticks_pos, font=smallfont)\n",
    "\n",
    "plt.title(\"SD of {} COD\".format(measure), font=smallfont)\n",
    "plt.tight_layout()\n",
    "\n",
    "# plt.title(\"West of Africa\")\n",
    "# plt.xlabel(\"Strategy\")\n",
    "# plt.ylabel(\"Std Dev. of COD{}\".format(measure[0]), font=smallfont)\n",
    "\n",
    "for ss in std_track_trajectories_list:\n",
    "    print(\"mean:\", np.mean(ss))\n",
    "    print(\"median:\", np.median(ss))"
   ]
  },
  {
   "cell_type": "code",
   "execution_count": 17,
   "id": "7e20149d",
   "metadata": {},
   "outputs": [],
   "source": [
    "def get_trajectory_line_fit(track_instances, centroids, median):\n",
    "    root_mses = []\n",
    "    \n",
    "    for track_id in track_instances:\n",
    "        regions = track_instances[track_id]\n",
    "        regions.sort()\n",
    "        \n",
    "        if len(regions) <= median:\n",
    "            continue\n",
    "        \n",
    "        xs = []\n",
    "        ys = []\n",
    "        for time_step, seg_id in regions:\n",
    "            segmentation = clustered_sfs[time_step]\n",
    "            values = value_list[time_step]\n",
    "            assert segmentation.shape == values.shape\n",
    "            \n",
    "            xs.append(time_step)\n",
    "            ys.append(centroids[time_step][seg_id])\n",
    "        \n",
    "        p, residuals, rank, singular_values, rcond = np.polyfit(xs, ys, 1, full=True)\n",
    "        root_mses.append(np.sum(np.sqrt(residuals)))\n",
    "        \n",
    "    return root_mses"
   ]
  },
  {
   "cell_type": "code",
   "execution_count": 18,
   "id": "b30c83be",
   "metadata": {},
   "outputs": [
    {
     "name": "stdout",
     "output_type": "stream",
     "text": [
      "technique: ('pFGW-system', 0.1)\n",
      "technique: ('pFGW-system', 0.1)\n",
      "technique: ('pFGW-system', 0.1)\n",
      "technique: ('pFGW-system', 0.2)\n",
      "technique: ('pFGW-system', 0.2)\n",
      "technique: ('pFGW-system', 0.2)\n",
      "technique: ('pFGW-system', 0.3)\n",
      "technique: ('pFGW-system', 0.3)\n",
      "technique: ('pFGW-system', 0.3)\n"
     ]
    }
   ],
   "source": [
    "std_track_linefit_technique = {}\n",
    "for technique in techniques:\n",
    "    for iDate in range(nDates):\n",
    "        for daytime in time_period:\n",
    "            date = dates[iDate]\n",
    "            print(\"technique:\", technique)\n",
    "            clustered_sfs, centroids, mapping_scores, cloud_id_mapping, durations = track_information[(technique, daytime)][iDate][:5]\n",
    "            track_instances = track_instances_technique[(technique, daytime, iDate)]\n",
    "\n",
    "            value_list = value_lists[(iDate, daytime)]\n",
    "            # value_list has the original scalar field\n",
    "            assert len(value_list) == len(clustered_sfs)\n",
    "            root_mses = get_trajectory_line_fit(track_instances, centroids, medians[technique])\n",
    "            std_track_linefit_technique[(technique, daytime, iDate)] = root_mses"
   ]
  },
  {
   "cell_type": "code",
   "execution_count": 19,
   "id": "96e683e7",
   "metadata": {},
   "outputs": [
    {
     "name": "stdout",
     "output_type": "stream",
     "text": [
      "mean: 4.010645918330924\n",
      "median: 2.1872688908010076\n",
      "mean: 3.8460640943163114\n",
      "median: 2.1639036729217844\n",
      "mean: 3.7742804629564817\n",
      "median: 2.149792200255962\n"
     ]
    },
    {
     "data": {
      "image/png": "[encoded data removed]",
      "text/plain": [
       "<Figure size 500x500 with 1 Axes>"
      ]
     },
     "metadata": {},
     "output_type": "display_data"
    }
   ],
   "source": [
    "std_track_linefit_list = []\n",
    "for label in labels:\n",
    "    std_track_linefits = []\n",
    "    for iDate in range(nDates):\n",
    "        for daytime in time_period:\n",
    "            std_track_linefits.extend(std_track_linefit_technique[(label, daytime, iDate)])\n",
    "    std_track_linefit_list.append(np.asarray(std_track_linefits))\n",
    "    \n",
    "plt.figure(figsize=(5, 5))\n",
    "\n",
    "# plt.subplot(121)\n",
    "# plt.violinplot(std_track_linefit_list, showmeans=False, showmedians=False)\n",
    "# plt.xticks(range(1, len(labels)+1), labels, font=smallfont)\n",
    "# plt.yticks(font=smallfont)\n",
    "# # plt.title(\"West of Africa\")\n",
    "# # plt.xlabel(\"Strategy\")\n",
    "# plt.ylabel(\"Linearity error\", font=smallfont)\n",
    "\n",
    "# plt.subplot(122)\n",
    "\n",
    "plt.boxplot(std_track_linefit_list, labels=labels, showmeans=True, showfliers=False, meanprops={\"markersize\": 12})\n",
    "plt.xticks(range(1, len(labels)+1), [labels_technique[each] for each in labels], font=tinyfont, rotation=25, ha='right')\n",
    "\n",
    "yticks_pos, yticks_labels = plt.yticks(font=smallfont)\n",
    "yticks_pos = yticks_pos[1::2]\n",
    "plt.yticks(yticks_pos, yticks_pos, font=smallfont)\n",
    "for daytime in time_period:\n",
    "    if daytime == 'mid-day':\n",
    "        plt.ylim([-0.5, 13])\n",
    "\n",
    "plt.title(\"Linearity loss\", font=smallfont)\n",
    "# # plt.xlabel(\"Strategy\")\n",
    "# plt.ylabel(\"Linearity loss\", font=smallfont)\n",
    "plt.tight_layout()\n",
    "\n",
    "for ss in std_track_linefit_list:\n",
    "    print(\"mean:\", np.mean(ss))\n",
    "    print(\"median:\", np.median(ss))"
   ]
  },
  {
   "cell_type": "markdown",
   "id": "0c7a48e1",
   "metadata": {},
   "source": [
    "### Section 3. Appendix plots for parameter justification"
   ]
  },
  {
   "cell_type": "code",
   "execution_count": 20,
   "id": "c07f346e",
   "metadata": {},
   "outputs": [],
   "source": [
    "# # plot: max matched distance\n",
    "# dist_table_path = \"./binary-parameter-tuning/CPPin20230801_0percent\"\n",
    "\n",
    "# filename = \"m_tuning_stats_alpha_0.2.csv\"\n",
    "\n",
    "# import pandas as pd\n",
    "# dist_table = pd.read_csv(pjoin(dist_table_path, filename)).to_dict()"
   ]
  },
  {
   "cell_type": "code",
   "execution_count": 21,
   "id": "192fbf6f",
   "metadata": {},
   "outputs": [],
   "source": [
    "# dist_ms = dist_table['m']\n",
    "# dist_mmds = dist_table[\"max_matched_distance\"]\n",
    "\n",
    "# def parse_list_str(st):\n",
    "#     st = st.replace(\"[\", \"\").replace(\"]\", \"\").strip()\n",
    "#     items = st.split(\",\")\n",
    "#     lst = []\n",
    "#     for item in items:\n",
    "#         lst.append(float(item))\n",
    "#     return lst\n",
    "\n",
    "# lst_ms = []\n",
    "# lst_mmds = []\n",
    "# for key in dist_ms:\n",
    "#     tmp_ms = parse_list_str(dist_ms[key])\n",
    "#     tmp_mmds = parse_list_str(dist_mmds[key])\n",
    "#     combined = list(zip(tmp_ms, tmp_mmds))\n",
    "#     combined.sort()\n",
    "#     ms = [i for i, j in combined]\n",
    "#     mmds = [j for i, j in combined]\n",
    "#     lst_ms.append(ms)\n",
    "#     lst_mmds.append(mmds)"
   ]
  },
  {
   "cell_type": "code",
   "execution_count": 22,
   "id": "866a9214",
   "metadata": {},
   "outputs": [],
   "source": [
    "# plt.figure(figsize=(16, 8))\n",
    "# for i in range(len(lst_ms)):\n",
    "#     ms = lst_ms[i]\n",
    "#     mmds = lst_mmds[i]\n",
    "    \n",
    "#     plt.plot(ms, mmds, label=str(i))\n",
    "# plt.show()"
   ]
  },
  {
   "cell_type": "code",
   "execution_count": null,
   "id": "2e092294",
   "metadata": {},
   "outputs": [],
   "source": []
  }
 ],
 "metadata": {
  "kernelspec": {
   "display_name": "Python 3 (ipykernel)",
   "language": "python",
   "name": "python3"
  },
  "language_info": {
   "codemirror_mode": {
    "name": "ipython",
    "version": 3
   },
   "file_extension": ".py",
   "mimetype": "text/x-python",
   "name": "python",
   "nbconvert_exporter": "python",
   "pygments_lexer": "ipython3",
   "version": "3.9.13"
  }
 },
 "nbformat": 4,
 "nbformat_minor": 5
}
